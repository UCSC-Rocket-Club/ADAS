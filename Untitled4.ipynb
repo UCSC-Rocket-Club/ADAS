{
 "cells": [
  {
   "cell_type": "code",
   "execution_count": 5,
   "metadata": {},
   "outputs": [],
   "source": [
    "import numpy as np\n",
    "M = 0.0289644\n",
    "R = 8.31447\n",
    "g = 9.81\n",
    "h0 = 0.0\n",
    "P0 = 101325\n",
    "T0 = 288.15\n",
    "L0 = -0.0065\n",
    "# Barometric pressure equations:\n",
    "# lapse rate =/= 0\n",
    "def P1 (h) :\n",
    "    return P0 * (T0 / (T0 + L0 * (h - h0))) ** (g * M / R * L0)\n",
    "# lapse rate = 0\n",
    "def P2 (h) :\n",
    "    return P0 * np.exp(-g * M * (h - h0) / (R * T0))"
   ]
  },
  {
   "cell_type": "code",
   "execution_count": 3,
   "metadata": {},
   "outputs": [],
   "source": [
    "h = np.arange(0, 800, 1) # height in meters"
   ]
  },
  {
   "cell_type": "code",
   "execution_count": 11,
   "metadata": {},
   "outputs": [
    {
     "data": {
      "image/png": "[encoded data removed]",
      "text/plain": [
       "<Figure size 432x288 with 1 Axes>"
      ]
     },
     "metadata": {
      "needs_background": "light"
     },
     "output_type": "display_data"
    }
   ],
   "source": [
    "D = []\n",
    "E = []\n",
    "for hi in h :\n",
    "    D.append(P1(hi))\n",
    "    E.append(P2(hi))\n",
    "    \n",
    "import matplotlib.pyplot as plt\n",
    "\n",
    "\n",
    "# plt.plot(h, E) # 0 lapse\n",
    "plt.plot(h, D, '--') # =/=0 lapse\n",
    "plt.show()"
   ]
  },
  {
   "cell_type": "code",
   "execution_count": null,
   "metadata": {},
   "outputs": [],
   "source": []
  }
 ],
 "metadata": {
  "kernelspec": {
   "display_name": "Python 2",
   "language": "python",
   "name": "python2"
  },
  "language_info": {
   "codemirror_mode": {
    "name": "ipython",
    "version": 2
   },
   "file_extension": ".py",
   "mimetype": "text/x-python",
   "name": "python",
   "nbconvert_exporter": "python",
   "pygments_lexer": "ipython2",
   "version": "2.7.14"
  }
 },
 "nbformat": 4,
 "nbformat_minor": 1
}
