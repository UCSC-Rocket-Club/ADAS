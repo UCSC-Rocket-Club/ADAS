{
 "cells": [
  {
   "cell_type": "code",
   "execution_count": 1,
   "metadata": {},
   "outputs": [],
   "source": [
    "import numpy as np\n",
    "import itertools as itertools\n",
    "import matplotlib.pyplot as plt"
   ]
  },
  {
   "cell_type": "code",
   "execution_count": 4,
   "metadata": {},
   "outputs": [
    {
     "name": "stdout",
     "output_type": "stream",
     "text": [
      "[0.         0.00601504 0.01203008 0.01804511 0.02406015 0.03007519\n",
      " 0.03609023 0.04210526 0.0481203  0.05413534 0.06015038 0.06616541\n",
      " 0.07218045 0.07819549 0.08421053 0.09022556 0.0962406  0.10225564\n",
      " 0.10827068 0.11428571 0.12030075 0.12631579 0.13233083 0.13834586\n",
      " 0.1443609  0.15037594 0.15639098 0.16240602 0.16842105 0.17443609\n",
      " 0.18045113 0.18646617 0.1924812  0.19849624 0.20451128 0.21052632\n",
      " 0.21654135 0.22255639 0.22857143 0.23458647 0.2406015  0.24661654\n",
      " 0.25263158 0.25864662 0.26466165 0.27067669 0.27669173 0.28270677\n",
      " 0.2887218  0.29473684 0.30075188 0.30676692 0.31278195 0.31879699\n",
      " 0.32481203 0.33082707 0.33684211 0.34285714 0.34887218 0.35488722\n",
      " 0.36090226 0.36691729 0.37293233 0.37894737 0.38496241 0.39097744\n",
      " 0.39699248 0.40300752 0.40902256 0.41503759 0.42105263 0.42706767\n",
      " 0.43308271 0.43909774 0.44511278 0.45112782 0.45714286 0.46315789\n",
      " 0.46917293 0.47518797 0.48120301 0.48721805 0.49323308 0.49924812\n",
      " 0.50526316 0.5112782  0.51729323 0.52330827 0.52932331 0.53533835\n",
      " 0.54135338 0.54736842 0.55338346 0.5593985  0.56541353 0.57142857\n",
      " 0.57744361 0.58345865 0.58947368 0.59548872 0.60150376 0.6075188\n",
      " 0.61353383 0.61954887 0.62556391 0.63157895 0.63759398 0.64360902\n",
      " 0.64962406 0.6556391  0.66165414 0.66766917 0.67368421 0.67969925\n",
      " 0.68571429 0.69172932 0.69774436 0.7037594  0.70977444 0.71578947\n",
      " 0.72180451 0.72781955 0.73383459 0.73984962 0.74586466 0.7518797\n",
      " 0.75789474 0.76390977 0.76992481 0.77593985 0.78195489 0.78796992\n",
      " 0.79398496 0.8        0.4        0.8        0.4        0.8\n",
      " 0.4        0.8        0.4        0.8        0.4        0.8\n",
      " 0.4        0.8        0.4        0.8        0.4        0.8\n",
      " 0.4        0.8        0.4        0.8        0.4        0.8\n",
      " 0.4        0.8        0.4        0.8        0.4        0.8\n",
      " 0.4        0.8        0.4        0.8        0.4        0.8\n",
      " 0.4        0.8        0.4        0.8        0.4        0.8\n",
      " 0.4        0.8        0.4        0.8        0.4        0.8\n",
      " 0.4        0.8        0.4        0.8        0.4        0.8\n",
      " 0.4        0.8        0.4        0.8        0.4        0.8\n",
      " 0.4        0.8        0.4        0.8        0.4        0.8\n",
      " 0.4        0.8        0.4        0.8        0.4        0.8\n",
      " 0.4        0.8        0.4        0.8        0.4        0.8\n",
      " 0.4        0.8        0.4        0.8        0.4        0.8\n",
      " 0.4        0.8        0.4        0.8        0.4        0.8\n",
      " 0.4        0.8        0.4        0.8        0.4        0.8\n",
      " 0.4        0.8        0.4        0.8        0.4        0.8\n",
      " 0.4        0.8        0.4        0.8        0.4        0.8\n",
      " 0.4        0.8        0.4        0.8        0.4        0.8\n",
      " 0.4        0.8        0.4        0.8        0.4        0.8\n",
      " 0.4        0.8        0.4        0.8        0.4        0.8\n",
      " 0.4        0.8        0.4        0.8        0.4        0.8\n",
      " 0.4        0.8        0.4        0.8        0.8        0.79398496\n",
      " 0.78796992 0.78195489 0.77593985 0.76992481 0.76390977 0.75789474\n",
      " 0.7518797  0.74586466 0.73984962 0.73383459 0.72781955 0.72180451\n",
      " 0.71578947 0.70977444 0.7037594  0.69774436 0.69172932 0.68571429\n",
      " 0.67969925 0.67368421 0.66766917 0.66165414 0.6556391  0.64962406\n",
      " 0.64360902 0.63759398 0.63157895 0.62556391 0.61954887 0.61353383\n",
      " 0.6075188  0.60150376 0.59548872 0.58947368 0.58345865 0.57744361\n",
      " 0.57142857 0.56541353 0.5593985  0.55338346 0.54736842 0.54135338\n",
      " 0.53533835 0.52932331 0.52330827 0.51729323 0.5112782  0.50526316\n",
      " 0.49924812 0.49323308 0.48721805 0.48120301 0.47518797 0.46917293\n",
      " 0.46315789 0.45714286 0.45112782 0.44511278 0.43909774 0.43308271\n",
      " 0.42706767 0.42105263 0.41503759 0.40902256 0.40300752 0.39699248\n",
      " 0.39097744 0.38496241 0.37894737 0.37293233 0.36691729 0.36090226\n",
      " 0.35488722 0.34887218 0.34285714 0.33684211 0.33082707 0.32481203\n",
      " 0.31879699 0.31278195 0.30676692 0.30075188 0.29473684 0.2887218\n",
      " 0.28270677 0.27669173 0.27067669 0.26466165 0.25864662 0.25263158\n",
      " 0.24661654 0.2406015  0.23458647 0.22857143 0.22255639 0.21654135\n",
      " 0.21052632 0.20451128 0.19849624 0.1924812  0.18646617 0.18045113\n",
      " 0.17443609 0.16842105 0.16240602 0.15639098 0.15037594 0.1443609\n",
      " 0.13834586 0.13233083 0.12631579 0.12030075 0.11428571 0.10827068\n",
      " 0.10225564 0.0962406  0.09022556 0.08421053 0.07819549 0.07218045\n",
      " 0.06616541 0.06015038 0.05413534 0.0481203  0.04210526 0.03609023\n",
      " 0.03007519 0.02406015 0.01804511 0.01203008 0.00601504 0.        ]\n"
     ]
    }
   ],
   "source": [
    "n = 402 # number of steps(should be %3 for now)\n",
    "max_deploy = .80 # Percentage of max deployment\n",
    "\n",
    "step_arr = np.linspace(0, max_deploy, num=int(n/3)) # step up and down array\n",
    "\n",
    "osc_arr=[] # oscillation array\n",
    "for i, j in enumerate(itertools.cycle([max_deploy/2, max_deploy])): # oscillate between 40 and 80\n",
    "    if i == int(n/3):  # loop n/3 times\n",
    "        break\n",
    "    osc_arr.append(j)  \n",
    "osc_arr=np.array(osc_arr)\n",
    "\n",
    "dummy_arr = np.concatenate((step_arr,osc_arr)) # combine step up and oscillation\n",
    "full_arr=np.concatenate((dummy_arr, step_arr[::-1])) # combine prev. array with step down array\n",
    "print((full_arr))"
   ]
  },
  {
   "cell_type": "code",
   "execution_count": 5,
   "metadata": {},
   "outputs": [
    {
     "data": {
      "text/plain": [
       "[<matplotlib.lines.Line2D at 0x7f98d03336d8>]"
      ]
     },
     "execution_count": 5,
     "metadata": {},
     "output_type": "execute_result"
    },
    {
     "data": {
      "image/png": "[encoded data removed]",
      "text/plain": [
       "<Figure size 432x288 with 1 Axes>"
      ]
     },
     "metadata": {},
     "output_type": "display_data"
    }
   ],
   "source": [
    "plt.plot(full_arr)"
   ]
  },
  {
   "cell_type": "code",
   "execution_count": null,
   "metadata": {},
   "outputs": [],
   "source": []
  }
 ],
 "metadata": {
  "kernelspec": {
   "display_name": "Python 3",
   "language": "python",
   "name": "python3"
  },
  "language_info": {
   "codemirror_mode": {
    "name": "ipython",
    "version": 3
   },
   "file_extension": ".py",
   "mimetype": "text/x-python",
   "name": "python",
   "nbconvert_exporter": "python",
   "pygments_lexer": "ipython3",
   "version": "3.6.5"
  }
 },
 "nbformat": 4,
 "nbformat_minor": 2
}
