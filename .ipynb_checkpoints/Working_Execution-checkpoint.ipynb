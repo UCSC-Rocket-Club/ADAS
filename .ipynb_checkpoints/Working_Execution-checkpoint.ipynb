{
 "cells": [
  {
   "cell_type": "code",
   "execution_count": 1,
   "metadata": {
    "collapsed": true
   },
   "outputs": [],
   "source": [
    "%load_ext autoreload\n",
    "%autoreload 2"
   ]
  },
  {
   "cell_type": "code",
   "execution_count": 27,
   "metadata": {
    "collapsed": false,
    "scrolled": true
   },
   "outputs": [
    {
     "name": "stdout",
     "output_type": "stream",
     "text": [
      "('rocket mass: ', 6.841999999999999)\n",
      " total impulse: 1949.71554177\n",
      "<Subscale.Rocket instance at 0x113c47290>\n",
      "(array([-0.024525]), array([-0.4905]), array([-9.81]))\n",
      "(array([ 0.05529477]), array([ 1.59639534]), array([ 41.73790689]))\n",
      "(array([ 0.26766078]), array([ 4.24732033]), array([ 53.01849966]))\n",
      "(array([ 0.62063452]), array([ 7.05947469]), array([ 56.24308727]))\n",
      "(array([ 1.11548278]), array([ 9.89696516]), array([ 56.74980946]))\n",
      "(array([ 1.75529088]), array([ 12.79616208]), array([ 57.9839384]))\n",
      "(array([ 2.54256957]), array([ 15.74557372]), array([ 58.98823279]))\n",
      "(array([ 3.47939111]), array([ 18.73643078]), array([ 59.81714117]))\n",
      "(array([ 4.5694591]), array([ 21.80135997]), array([ 61.29858384]))\n",
      "(array([ 5.81569204]), array([ 24.92465879]), array([ 62.46597638]))\n",
      "(array([ 7.22004865]), array([ 28.08713208]), array([ 63.24946576]))\n",
      "(array([ 8.78503181]), array([ 31.29966317]), array([ 64.25062184]))\n",
      "(array([ 10.51462538]), array([ 34.59187141]), array([ 65.84416472]))\n",
      "(array([ 12.41144845]), array([ 37.93646154]), array([ 66.89180258]))\n",
      "(array([ 14.47787784]), array([ 41.32858769]), array([ 67.84252298]))\n",
      "(array([ 16.7161643]), array([ 44.7657292]), array([ 68.74283016]))\n",
      "(array([ 19.1284047]), array([ 48.24480812]), array([ 69.58157842]))\n",
      "(array([ 21.71723594]), array([ 51.77662465]), array([ 70.63633064]))\n",
      "(array([ 24.48516037]), array([ 55.35848869]), array([ 71.63728079]))\n",
      "(array([ 27.43374267]), array([ 58.97164602]), array([ 72.26314665]))\n",
      "(array([ 30.56491965]), array([ 62.62353947]), array([ 73.03786898]))\n",
      "(array([ 33.88101411]), array([ 66.32188923]), array([ 73.96699523]))\n",
      "(array([ 37.38369457]), array([ 70.05360934]), array([ 74.63440226]))\n",
      "(array([ 41.07410475]), array([ 73.80820345]), array([ 75.09188203]))\n",
      "(array([ 44.95361506]), array([ 77.59020635]), array([ 75.64005808]))\n",
      "(array([ 49.02266501]), array([ 81.38099898]), array([ 75.81585267]))\n",
      "(array([ 53.28224462]), array([ 85.19159213]), array([ 76.21186292]))\n",
      "(array([ 57.73374769]), array([ 89.03006144]), array([ 76.76938621]))\n",
      "(array([ 62.37799227]), array([ 92.88489151]), array([ 77.09660136]))\n",
      "(array([ 67.21680852]), array([ 96.776325]), array([ 77.82866986]))\n",
      "(array([ 72.25116706]), array([ 100.68717088]), array([ 78.21691755]))\n",
      "(array([ 77.48236053]), array([ 104.62386931]), array([ 78.73396874]))\n",
      "(array([ 82.91043312]), array([ 108.56145192]), array([ 78.75165215]))\n",
      "(array([ 88.53490017]), array([ 112.48934098]), array([ 78.55778118]))\n",
      "(array([ 94.35533864]), array([ 116.40876942]), array([ 78.38856883]))\n",
      "(array([ 100.37296485]), array([ 120.35252414]), array([ 78.87509443]))\n",
      "(array([ 106.58858149]), array([ 124.31233283]), array([ 79.19617369]))\n",
      "(array([ 113.00149811]), array([ 128.25833238]), array([ 78.919991]))\n",
      "(array([ 119.61117215]), array([ 132.19348079]), array([ 78.70296818]))\n",
      "(array([ 126.41519021]), array([ 136.08036115]), array([ 77.73760732]))\n",
      "(array([ 133.4082294]), array([ 139.8607838]), array([ 75.60845297]))\n",
      "(array([ 140.58516213]), array([ 143.53865471]), array([ 73.55741808]))\n",
      "(array([ 147.94025996]), array([ 147.1019566]), array([ 71.26603782]))\n",
      "(array([ 155.46883606]), array([ 150.57152197]), array([ 69.39130738]))\n",
      "(array([ 163.16595652]), array([ 153.94240916]), array([ 67.41774391]))\n",
      "(array([ 171.02633851]), array([ 157.20763984]), array([ 65.30461352]))\n",
      "(array([ 179.04467535]), array([ 160.36673667]), array([ 63.1819366]))\n",
      "(array([ 187.21691224]), array([ 163.44473785]), array([ 61.56002361]))\n",
      "(array([ 195.53715228]), array([ 166.4048009]), array([ 59.20126109]))\n",
      "(array([ 204.00140979]), array([ 169.2851501]), array([ 57.60698391]))\n",
      "(array([ 212.60514083]), array([ 172.0746209]), array([ 55.78941601]))\n",
      "(array([ 221.34375727]), array([ 174.77232871]), array([ 53.95415627]))\n",
      "(array([ 230.21258316]), array([ 177.37651785]), array([ 52.08378285]))\n",
      "(array([ 239.20699638]), array([ 179.88826441]), array([ 50.23493103]))\n",
      "(array([ 248.32299723]), array([ 182.32001707]), array([ 48.63505318]))\n",
      "coasting: 20\n",
      "(array([ 266.90207008]), array([ 186.91109501]), array([ 44.81466269]))\n",
      "(array([ 276.35475737]), array([ 189.05374589]), array([ 42.85301759]))\n",
      "(array([ 285.90845853]), array([ 191.07402321]), array([ 40.40554641]))\n",
      "(array([ 295.55970513]), array([ 193.02493196]), array([ 39.01817498]))\n",
      "(array([ 305.30461278]), array([ 194.89815308]), array([ 37.46442248]))\n",
      "(array([ 315.13916872]), array([ 196.69111873]), array([ 35.85931302]))\n",
      "(array([ 325.06123365]), array([ 198.44129862]), array([ 35.00359789]))\n",
      "(array([ 335.06550202]), array([ 200.08536733]), array([ 32.88137417]))\n",
      "(array([ 345.1476239]), array([ 201.64243769]), array([ 31.14140716]))\n",
      "(array([ 355.30474598]), array([ 203.14244151]), array([ 30.00007635]))\n",
      "(array([ 365.53358904]), array([ 204.57686122]), array([ 28.68839417]))\n",
      "(array([ 375.83014992]), array([ 205.93121769]), array([ 27.08712946]))\n",
      "(array([ 386.1917857]), array([ 207.23271557]), array([ 26.02995763]))\n",
      "(array([ 396.61443705]), array([ 208.45302693]), array([ 24.40622725]))\n",
      "(array([ 407.09535038]), array([ 209.61826657]), array([ 23.30479275]))\n",
      "(array([ 417.63131562]), array([ 210.71930481]), array([ 22.02076479]))\n",
      "(array([ 428.21953284]), array([ 211.76434443]), array([ 20.90079235]))\n",
      "(array([ 438.85664212]), array([ 212.74218554]), array([ 19.55682222]))\n",
      "(array([ 449.53977462]), array([ 213.66265013]), array([ 18.40929186]))\n",
      "(array([ 460.26654718]), array([ 214.53545113]), array([ 17.45602004]))\n",
      "(array([ 471.03483311]), array([ 215.36571851]), array([ 16.6053475]))\n",
      "(array([ 481.84207163]), array([ 216.14477056]), array([ 15.58104108]))\n",
      "(array([ 492.68862541]), array([ 216.93107555]), array([ 15.7260997]))\n",
      "(array([ 503.56845639]), array([ 217.59661965]), array([ 13.31088201]))\n",
      "(array([ 514.48345162]), array([ 218.29990449]), array([ 14.06569683]))\n",
      "(array([ 525.42758779]), array([ 218.88272349]), array([ 11.65638006]))\n",
      "(array([ 536.39866782]), array([ 219.4216005]), array([ 10.77754005]))\n",
      "(array([ 547.39370361]), array([ 219.90071592]), array([ 9.58230856]))\n",
      "(array([ 558.40445683]), array([ 220.21506437]), array([ 6.28696891]))\n",
      "(array([ 569.41475298]), array([ 220.20592299]), array([-0.18282769]))\n",
      "(array([ 580.40959906]), array([ 219.89692159]), array([-6.18002791]))\n",
      "(array([ 591.37604871]), array([ 219.32899293]), array([-11.35857316]))\n",
      "(array([ 602.30447658]), array([ 218.56855738]), array([-15.20871108]))\n",
      "(array([ 613.18882307]), array([ 217.68692981]), array([-17.63255143]))\n",
      "(array([ 624.02573059]), array([ 216.73815046]), array([-18.97558688]))\n",
      "(array([ 634.81325194]), array([ 215.75042706]), array([-19.75446796]))\n",
      "(array([ 645.55036292]), array([ 214.74221949]), array([-20.16415153]))\n",
      "(array([ 656.23660531]), array([ 213.72484776]), array([-20.34743454]))\n",
      "(array([ 666.87182885]), array([ 212.70447087]), array([-20.40753786]))\n",
      "(array([ 677.45613752]), array([ 211.68617332]), array([-20.36595092]))\n",
      "(array([ 687.98975646]), array([ 210.67237881]), array([-20.27589014]))\n",
      "(array([ 698.47292986]), array([ 209.66346799]), array([-20.17821657]))\n",
      "(array([ 708.90561489]), array([ 208.65370078]), array([-20.19534417]))\n",
      "(array([ 719.28776726]), array([ 207.64304733]), array([-20.21306893]))\n",
      "(array([ 729.6196532]), array([ 206.63771874]), array([-20.10657189]))\n",
      "(array([ 739.90153601]), array([ 205.63765627]), array([-20.00124936]))\n",
      "(array([ 750.1336762]), array([ 204.64280375]), array([-19.8970504]))\n",
      "(array([ 760.31633157]), array([ 203.65310747]), array([-19.79392567]))\n",
      "(array([ 770.44975738]), array([ 202.6685161]), array([-19.69182728]))\n",
      "(array([ 780.53420641]), array([ 201.68898066]), array([-19.59070885]))\n",
      "(array([ 790.56992913]), array([ 200.71445439]), array([-19.49052535]))\n",
      "(array([ 800.55717377]), array([ 199.74489273]), array([-19.39123315]))\n",
      "(array([ 810.49618643]), array([ 198.78025323]), array([-19.29279006]))\n",
      "(array([ 820.38721117]), array([ 197.82049485]), array([-19.19516756]))\n",
      "(array([ 830.23049001]), array([ 196.8655768]), array([-19.098361]))\n",
      "(array([ 840.02626293]), array([ 195.91545839]), array([-19.00236821]))\n",
      "(array([ 849.77476788]), array([ 194.97009905]), array([-18.90718691]))\n",
      "(array([ 859.4762408]), array([ 194.02945831]), array([-18.8128147]))\n",
      "(array([ 869.13091559]), array([ 193.09349586]), array([-18.71924907]))\n",
      "(array([ 878.73902417]), array([ 192.16217149]), array([-18.62648743]))\n",
      "(array([ 888.30079642]), array([ 191.23544513]), array([-18.53452708]))\n",
      "(array([ 897.81646027]), array([ 190.31327687]), array([-18.44336522]))\n",
      "(array([ 907.28624161]), array([ 189.39562692]), array([-18.35299898]))\n",
      "(array([ 916.71036439]), array([ 188.48245565]), array([-18.26342541]))\n",
      "(array([ 926.08905057]), array([ 187.57372358]), array([-18.17464146]))\n",
      "(array([ 935.42252014]), array([ 186.66939138]), array([-18.08664403]))\n",
      "(array([ 944.71099114]), array([ 185.76941988]), array([-17.99942994]))\n",
      "(array([ 953.95467964]), array([ 184.87377008]), array([-17.91299594]))\n",
      "(array([ 963.1537998]), array([ 183.98240315]), array([-17.82733872]))\n",
      "(array([ 972.30856382]), array([ 183.0952804]), array([-17.74245492]))\n",
      "(array([ 981.41918199]), array([ 182.21236335]), array([-17.65834111]))\n",
      "(array([ 990.48586267]), array([ 181.33361366]), array([-17.57499382]))\n",
      "(array([ 999.50881233]), array([ 180.45899318]), array([-17.49240953]))\n",
      "(array([ 1008.48823552]), array([ 179.58846395]), array([-17.41058467]))\n",
      "(array([ 1017.42433493]), array([ 178.72198815]), array([-17.32951593]))\n",
      "(array([ 1026.31731132]), array([ 177.85952777]), array([-17.24920757]))\n",
      "(array([ 1035.16736353]), array([ 177.00104419]), array([-17.16967167]))\n",
      "(array([ 1043.97468844]), array([ 176.14649818]), array([-17.09092018]))\n",
      "(array([ 1052.73948094]), array([ 175.29584995]), array([-17.0129645]))\n",
      "(array([ 1061.4619339]), array([ 174.44905918]), array([-16.93581553]))\n",
      "(array([ 1070.14223815]), array([ 173.60608499]), array([-16.85948364]))\n",
      "(array([ 1078.78058245]), array([ 172.76688606]), array([-16.78397876]))\n",
      "(array([ 1087.37715347]), array([ 171.93142054]), array([-16.70931033]))\n",
      "(array([ 1095.93213578]), array([ 171.09964617]), array([-16.63548736]))\n",
      "(array([ 1104.4457118]), array([ 170.27152025]), array([-16.56251843]))\n",
      "(array([ 1112.91806178]), array([ 169.44699966]), array([-16.49041173]))\n",
      "(array([ 1121.34936382]), array([ 168.62604091]), array([-16.41917502]))\n",
      "(array([ 1129.73979383]), array([ 167.80860013]), array([-16.34881573]))\n",
      "(array([ 1138.08952549]), array([ 166.99463308]), array([-16.2793409]))\n",
      "(array([ 1146.39873025]), array([ 166.18409522]), array([-16.21075726]))\n",
      "(array([ 1154.66757733]), array([ 165.37694166]), array([-16.1430712]))\n",
      "(array([ 1162.89623369]), array([ 164.57312722]), array([-16.07628879]))\n",
      "(array([ 1171.08486401]), array([ 163.77260643]), array([-16.01041582]))\n",
      "(array([ 1179.23363069]), array([ 162.97533354]), array([-15.94545781]))\n",
      "(array([ 1187.34269382]), array([ 162.18126254]), array([-15.88142]))\n",
      "(array([ 1195.41221117]), array([ 161.39034717]), array([-15.8183074]))\n",
      "(array([ 1203.44233822]), array([ 160.60254093]), array([-15.75612477]))\n",
      "(array([ 1211.43322808]), array([ 159.8177971]), array([-15.69487665]))\n",
      "(array([ 1219.38503151]), array([ 159.03606873]), array([-15.63456726]))\n",
      "(array([ 1227.29789699]), array([ 158.25730952]), array([-15.57518422]))\n",
      "(array([ 1235.17197076]), array([ 157.48147542]), array([-15.51668206]))\n",
      "(array([ 1243.007397]), array([ 156.7085248]), array([-15.45901245]))\n",
      "(array([ 1250.80431792]), array([ 155.93841839]), array([-15.40212821]))\n",
      "(array([ 1258.56287388]), array([ 155.17111922]), array([-15.34598335]))\n",
      "(array([ 1266.28320351]), array([ 154.40659257]), array([-15.29053295]))\n",
      "(array([ 1273.9654438]), array([ 153.64480591]), array([-15.23573319]))\n",
      "(array([ 1281.60973025]), array([ 152.88572885]), array([-15.18154127]))\n",
      "(array([ 1289.2161969]), array([ 152.12933308]), array([-15.12791541]))\n",
      "(array([ 1296.78497652]), array([ 151.37559234]), array([-15.07481479]))\n",
      "(array([ 1304.31620063]), array([ 150.62448236]), array([-15.02219954]))\n",
      "(array([ 1311.80999968]), array([ 149.87598083]), array([-14.9700307]))\n",
      "(array([ 1319.26650304]), array([ 149.13006732]), array([-14.91827022]))\n",
      "(array([ 1326.68583921]), array([ 148.38672327]), array([-14.8668809]))\n",
      "(array([ 1334.0681358]), array([ 147.64593195]), array([-14.81582641]))\n",
      "(array([ 1341.41351972]), array([ 146.90767839]), array([-14.76507125]))\n",
      "(array([ 1348.72211719]), array([ 146.17194935]), array([-14.71458071]))\n",
      "(array([ 1355.99405386]), array([ 145.43873331]), array([-14.6643209]))\n",
      "(array([ 1363.22945487]), array([ 144.70802037]), array([-14.6142587]))\n",
      "(array([ 1370.42844499]), array([ 143.97980228]), array([-14.56436175]))\n",
      "(array([ 1377.59114861]), array([ 143.25407236]), array([-14.51459847]))\n",
      "(array([ 1384.71768988]), array([ 142.53082546]), array([-14.464938]))\n",
      "(array([ 1391.80819278]), array([ 141.81005795]), array([-14.41535021]))\n",
      "(array([ 1398.86278116]), array([ 141.09176766]), array([-14.36580572]))\n",
      "(array([ 1405.88157885]), array([ 140.37595387]), array([-14.31627583]))\n",
      "(array([ 1412.86470972]), array([ 139.66261724]), array([-14.26673259]))\n",
      "(array([ 1419.8122977]), array([ 138.95175975]), array([-14.21714978]))\n",
      "(array([ 1426.72446687]), array([ 138.24338327]), array([-14.16752963]))\n",
      "(array([ 1433.60134127]), array([ 137.53748808]), array([-14.11790396]))\n",
      "(array([ 1440.44304491]), array([ 136.83407281]), array([-14.06830528]))\n",
      "(array([ 1447.24970164]), array([ 136.13313454]), array([-14.01876537]))\n",
      "(array([ 1454.02143508]), array([ 135.43466878]), array([-13.96931522]))\n",
      "(array([ 1460.75836855]), array([ 134.73866953]), array([-13.91998508]))\n",
      "(array([ 1467.46062502]), array([ 134.0451293]), array([-13.87080447]))\n",
      "(array([ 1474.12832698]), array([ 133.3540392]), array([-13.82180218]))\n",
      "(array([ 1480.76159642]), array([ 132.66538888]), array([-13.77300627]))\n",
      "(array([ 1487.36055476]), array([ 131.97916668]), array([-13.7244441]))\n",
      "(array([ 1493.92532274]), array([ 131.29535956]), array([-13.67614234]))\n",
      "(array([ 1500.4560204]), array([ 130.61395321]), array([-13.62812698]))\n",
      "(array([ 1506.952767]), array([ 129.93493204]), array([-13.58042333]))\n",
      "(array([ 1513.41568096]), array([ 129.25827924]), array([-13.53305606]))\n",
      "(array([ 1519.8448798]), array([ 128.58397678]), array([-13.4860492]))\n",
      "(array([ 1526.24048007]), array([ 127.91200547]), array([-13.43942616]))\n",
      "(array([ 1532.60259732]), array([ 127.24234499]), array([-13.39320975]))\n",
      "(array([ 1538.93134602]), array([ 126.57497388]), array([-13.34742216]))\n",
      "(array([ 1545.2268395]), array([ 125.90986963]), array([-13.30208506]))\n",
      "(array([ 1551.48918993]), array([ 125.24700865]), array([-13.2572195]))\n",
      "(array([ 1557.71850825]), array([ 124.58636635]), array([-13.21284605]))\n",
      "(array([ 1563.9149041]), array([ 123.92791711]), array([-13.16898471]))\n",
      "(array([ 1570.07848582]), array([ 123.27163436]), array([-13.12565502]))\n",
      "(array([ 1576.20936035]), array([ 122.61749056]), array([-13.08287599]))\n",
      "(array([ 1582.30763321]), array([ 121.96545725]), array([-13.0406662]))\n",
      "(array([ 1588.37340846]), array([ 121.31550506]), array([-12.99904375]))\n",
      "(array([ 1594.40678865]), array([ 120.66760375]), array([-12.95802633]))\n",
      "(array([ 1600.40787476]), array([ 120.02172219]), array([-12.9176312]))\n",
      "(array([ 1606.37676618]), array([ 119.37782843]), array([-12.87787523]))\n",
      "(array([ 1612.31356068]), array([ 118.73588992]), array([-12.83877004]))\n",
      "(array([ 1618.21835441]), array([ 118.09587465]), array([-12.80030544]))\n",
      "(array([ 1624.09124198]), array([ 117.45775138]), array([-12.7624655]))\n",
      "(array([ 1629.93231646]), array([ 116.82148964]), array([-12.72523466]))\n",
      "(array([ 1635.74166945]), array([ 116.18705976]), array([-12.68859764]))\n",
      "(array([ 1641.51939109]), array([ 115.55443279]), array([-12.65253949]))\n",
      "(array([ 1647.26557012]), array([ 114.92358051]), array([-12.61704556]))\n",
      "(array([ 1652.98029389]), array([ 114.29447544]), array([-12.58210147]))\n",
      "(array([ 1658.66364843]), array([ 113.66709078]), array([-12.54769315]))\n",
      "(array([ 1664.31571845]), array([ 113.04140044]), array([-12.51380676]))\n",
      "(array([ 1669.9365874]), array([ 112.417379]), array([-12.48042876]))\n",
      "(array([ 1675.52633748]), array([ 111.79500171]), array([-12.44754584]))\n",
      "(array([ 1681.08504971]), array([ 111.17424446]), array([-12.41514496]))\n",
      "(array([ 1686.6128039]), array([ 110.5550838]), array([-12.3832133]))\n",
      "(array([ 1692.10967874]), array([ 109.93749688]), array([-12.35173828]))\n",
      "(array([ 1697.57575182]), array([ 109.32146151]), array([-12.32070754]))\n",
      "(array([ 1703.01109962]), array([ 108.70695606]), array([-12.29010894]))\n",
      "(array([ 1708.4157976]), array([ 108.09395953]), array([-12.25993057]))\n",
      "(array([ 1713.78992017]), array([ 107.4824515]), array([-12.23016069]))\n",
      "(array([ 1719.13354078]), array([ 106.87241211]), array([-12.20078779]))\n",
      "(array([ 1724.44673188]), array([ 106.26382208]), array([-12.17180055]))\n",
      "(array([ 1729.72956501]), array([ 105.65666269]), array([-12.14318783]))\n",
      "(array([ 1734.9821108]), array([ 105.05091575]), array([-12.11493867]))\n",
      "(array([ 1740.20443898]), array([ 104.44656364]), array([-12.08704231]))\n",
      "(array([ 1745.39661845]), array([ 103.84358923]), array([-12.05948813]))\n",
      "(array([ 1750.55871724]), array([ 103.24197595]), array([-12.03226571]))\n",
      "(array([ 1755.69080263]), array([ 102.64170771]), array([-12.00536477]))\n",
      "(array([ 1760.79294108]), array([ 102.04276895]), array([-11.9787752]))\n",
      "(array([ 1765.86519831]), array([ 101.4451446]), array([-11.95248706]))\n",
      "(array([ 1770.90763931]), array([ 100.84882007]), array([-11.92649054]))\n",
      "(array([ 1775.92032837]), array([ 100.25378127]), array([-11.90077598]))\n",
      "(array([ 1780.9033291]), array([ 99.66001458]), array([-11.87533387]))\n",
      "(array([ 1785.85670444]), array([ 99.06750682]), array([-11.85015501]))\n",
      "(array([ 1790.7805167]), array([ 98.47624517]), array([-11.82523316]))\n",
      "(array([ 1795.67482755]), array([ 97.88621694]), array([-11.80056448]))\n",
      "(array([ 1800.53969803]), array([ 97.29740968]), array([-11.77614529]))\n",
      "(array([ 1805.37518859]), array([ 96.70981108]), array([-11.75197192]))\n",
      "(array([ 1810.18135904]), array([ 96.12340904]), array([-11.72804078]))\n",
      "(array([ 1814.95826862]), array([ 95.53819163]), array([-11.70434831]))\n",
      "(array([ 1819.70597597]), array([ 94.95414708]), array([-11.68089101]))\n",
      "(array([ 1824.42453916]), array([ 94.37126381]), array([-11.65766542]))\n",
      "(array([ 1829.11401568]), array([ 93.7895304]), array([-11.63466814]))\n",
      "(array([ 1833.77446246]), array([ 93.20893561]), array([-11.61189579]))\n",
      "(array([ 1838.40593588]), array([ 92.62946836]), array([-11.58934506]))\n",
      "(array([ 1843.00849177]), array([ 92.05111772]), array([-11.56701267]))\n",
      "(array([ 1847.58218542]), array([ 91.47387296]), array([-11.54489538]))\n",
      "(array([ 1852.12707159]), array([ 90.89772345]), array([-11.52299001]))\n",
      "(array([ 1856.64320453]), array([ 90.32265879]), array([-11.50129339]))\n",
      "(array([ 1861.13063796]), array([ 89.74866866]), array([-11.47980243]))\n",
      "(array([ 1865.58942511]), array([ 89.17574296]), array([-11.45851404]))\n",
      "(array([ 1870.0196187]), array([ 88.6038717]), array([-11.4374252]))\n",
      "(array([ 1874.42127095]), array([ 88.03304506]), array([-11.4165329]))\n",
      "(array([ 1878.79443362]), array([ 87.46325335]), array([-11.3958342]))\n",
      "(array([ 1883.13915797]), array([ 86.89448704]), array([-11.37532617]))\n",
      "(array([ 1887.4554948]), array([ 86.32673674]), array([-11.35500592]))\n",
      "(array([ 1891.74349446]), array([ 85.75999321]), array([-11.3348706]))\n",
      "(array([ 1896.00320683]), array([ 85.19424734]), array([-11.3149174]))\n",
      "(array([ 1900.23468134]), array([ 84.62949017]), array([-11.29514354]))\n",
      "(array([ 1904.43796698]), array([ 84.06571285]), array([-11.27554627]))\n",
      "(array([ 1908.61311232]), array([ 83.50290671]), array([-11.25612287]))\n",
      "(array([ 1912.76016548]), array([ 82.94106318]), array([-11.23687065]))\n",
      "(array([ 1916.87917417]), array([ 82.38017383]), array([-11.21778698]))\n",
      "(array([ 1920.97018569]), array([ 81.82023037]), array([-11.19886921]))\n",
      "(array([ 1925.03324692]), array([ 81.26122463]), array([-11.18011477]))\n",
      "(array([ 1929.06840435]), array([ 80.70314857]), array([-11.16152109]))\n",
      "(array([ 1933.07570406]), array([ 80.14599429]), array([-11.14308564]))\n",
      "(array([ 1937.05519176]), array([ 79.589754]), array([-11.12480591]))\n",
      "(array([ 1941.00691276]), array([ 79.03442002]), array([-11.10667957]))\n",
      "(array([ 1944.930912]), array([ 78.47998474]), array([-11.08870559]))\n",
      "(array([ 1948.82723403]), array([ 77.92644056]), array([-11.07088361]))\n",
      "(array([ 1952.69592302]), array([ 77.37377989]), array([-11.05321329]))\n",
      "(array([ 1956.53702278]), array([ 76.82199518]), array([-11.03569429]))\n",
      "(array([ 1960.35057672]), array([ 76.27107886]), array([-11.01832629]))\n",
      "(array([ 1964.13662789]), array([ 75.72102342]), array([-11.00110894]))\n",
      "(array([ 1967.89521896]), array([ 75.17182132]), array([-10.98404193]))\n",
      "(array([ 1971.62639221]), array([ 74.62346507]), array([-10.96712493]))\n",
      "(array([ 1975.33018957]), array([ 74.07594719]), array([-10.95035762]))\n",
      "(array([ 1979.00665258]), array([ 73.52926021]), array([-10.93373969]))\n",
      "(array([ 1982.65582242]), array([ 72.98339667]), array([-10.91727082]))\n",
      "(array([ 1986.27773987]), array([ 72.43834913]), array([-10.9009507]))\n",
      "(array([ 1989.87244538]), array([ 71.89411018]), array([-10.88477904]))\n",
      "(array([ 1993.439979]), array([ 71.3506724]), array([-10.86875552]))\n",
      "(array([ 1996.98038042]), array([ 70.80802841]), array([-10.85287986]))\n",
      "(array([ 2000.49368897]), array([ 70.26617082]), array([-10.83715175]))\n",
      "(array([ 2003.97994358]), array([ 69.72509228]), array([-10.82157092]))\n",
      "(array([ 2007.43918285]), array([ 69.18478543]), array([-10.80613706]))\n",
      "(array([ 2010.871445]), array([ 68.64524293]), array([-10.79084991]))\n",
      "(array([ 2014.27676787]), array([ 68.10645747]), array([-10.77570919]))\n",
      "(array([ 2017.65518896]), array([ 67.56842174]), array([-10.76071462]))\n",
      "(array([ 2021.00674538]), array([ 67.03112844]), array([-10.74586593]))\n",
      "(array([ 2024.3314739]), array([ 66.4945703]), array([-10.73116285]))\n",
      "(array([ 2027.6294109]), array([ 65.95874004]), array([-10.71660513]))\n",
      "(array([ 2030.90059242]), array([ 65.42363042]), array([-10.70219251]))\n",
      "(array([ 2034.14505413]), array([ 64.88923418]), array([-10.68792473]))\n",
      "(array([ 2037.36283133]), array([ 64.3555441]), array([-10.67380155]))\n",
      "(array([ 2040.55395898]), array([ 63.82255297]), array([-10.65982272]))\n",
      "(array([ 2043.71847166]), array([ 63.29025357]), array([-10.645988]))\n",
      "(array([ 2046.8564036]), array([ 62.75863871]), array([-10.63229716]))\n",
      "(array([ 2049.96778866]), array([ 62.22770121]), array([-10.61874995]))\n",
      "(array([ 2053.05266035]), array([ 61.6974339]), array([-10.60534617]))\n",
      "(array([ 2056.11105183]), array([ 61.16782963]), array([-10.59208557]))\n",
      "(array([ 2059.14299589]), array([ 60.63888123]), array([-10.57896795]))\n",
      "(array([ 2062.14852497]), array([ 60.11058157]), array([-10.56599309]))\n",
      "(array([ 2065.12767115]), array([ 59.58292353]), array([-10.55316078]))\n",
      "(array([ 2068.08046615]), array([ 59.0559]), array([-10.54047071]))\n",
      "(array([ 2071.00694134]), array([ 58.52950391]), array([-10.52792177]))\n",
      "(array([ 2073.90712776]), array([ 58.00372828]), array([-10.51551253]))\n",
      "(array([ 2076.78105607]), array([ 57.47856621]), array([-10.50324153]))\n",
      "(array([ 2079.62875661]), array([ 56.95401084]), array([-10.49110736]))\n",
      "(array([ 2082.45025938]), array([ 56.43005541]), array([-10.47910861]))\n",
      "(array([ 2085.24559404]), array([ 55.90669322]), array([-10.46724387]))\n",
      "(array([ 2088.01478992]), array([ 55.38391763]), array([-10.45551177]))\n",
      "(array([ 2090.75787603]), array([ 54.86172208]), array([-10.44391094]))\n",
      "(array([ 2093.47488103]), array([ 54.34010008]), array([-10.43244003]))\n",
      "(array([ 2096.16583329]), array([ 53.81904519]), array([-10.42109768]))\n",
      "(array([ 2098.83076084]), array([ 53.29855107]), array([-10.40988258]))\n",
      "(array([ 2101.46969141]), array([ 52.7786114]), array([-10.39879341]))\n",
      "(array([ 2104.08265241]), array([ 52.25921995]), array([-10.38782886]))\n",
      "(array([ 2106.66967094]), array([ 51.74037057]), array([-10.37698764]))\n",
      "(array([ 2109.2307738]), array([ 51.22205715]), array([-10.36626848]))\n",
      "(array([ 2111.76598748]), array([ 50.70427364]), array([-10.3556701]))\n",
      "(array([ 2114.27533818]), array([ 50.18701408]), array([-10.34519126]))\n",
      "(array([ 2116.75885181]), array([ 49.67027254]), array([-10.3348307]))\n",
      "(array([ 2119.21655397]), array([ 49.15404318]), array([-10.3245872]))\n",
      "(array([ 2121.64846998]), array([ 48.63832021]), array([-10.31445954]))\n",
      "(array([ 2124.05462488]), array([ 48.12309788]), array([-10.3044465]))\n",
      "(array([ 2126.4350434]), array([ 47.60837054]), array([-10.29454688]))\n",
      "(array([ 2128.78975003]), array([ 47.09413256]), array([-10.2847595]))\n",
      "(array([ 2131.11876895]), array([ 46.5803784]), array([-10.27508318]))\n",
      "(array([ 2133.42212408]), array([ 46.06710257]), array([-10.26551674]))\n",
      "(array([ 2135.69983906]), array([ 45.55429962]), array([-10.25605904]))\n",
      "(array([ 2137.95193727]), array([ 45.04196417]), array([-10.24670892]))\n",
      "(array([ 2140.17844181]), array([ 44.53009091]), array([-10.23746524]))\n",
      "(array([ 2142.37937554]), array([ 44.01867456]), array([-10.22832688]))\n",
      "(array([ 2144.55476104]), array([ 43.50770993]), array([-10.21929271]))\n",
      "(array([ 2146.70462063]), array([ 42.99719185]), array([-10.21036163]))\n",
      "(array([ 2148.82897639]), array([ 42.48711522]), array([-10.20153253]))\n",
      "(array([ 2150.92785014]), array([ 41.977475]), array([-10.19280433]))\n",
      "(array([ 2153.00126345]), array([ 41.46826621]), array([-10.18417593]))\n",
      "(array([ 2155.04923765]), array([ 40.95948389]), array([-10.17564627]))\n",
      "(array([ 2157.07179381]), array([ 40.45112318]), array([-10.16721427]))\n",
      "(array([ 2159.06895277]), array([ 39.94317924]), array([-10.15887889]))\n",
      "(array([ 2161.04073513]), array([ 39.43564728]), array([-10.15063906]))\n",
      "(array([ 2162.98716126]), array([ 38.92852258]), array([-10.14249401]))\n",
      "(array([ 2164.90825128]), array([ 38.4218004]), array([-10.13444371]))\n",
      "(array([ 2166.80402508]), array([ 37.91547598]), array([-10.12648825]))\n",
      "(array([ 2168.67450231]), array([ 37.4095446]), array([-10.11862773]))\n",
      "(array([ 2170.51970238]), array([ 36.90400148]), array([-10.11086227]))\n",
      "(array([ 2172.33964448]), array([ 36.39884189]), array([-10.10319196]))\n",
      "(array([ 2174.13434753]), array([ 35.89406104]), array([-10.09561691]))\n",
      "(array([ 2175.90383024]), array([ 35.38965418]), array([-10.08813724]))\n",
      "(array([ 2177.64811107]), array([ 34.88561653]), array([-10.08075304]))\n",
      "(array([ 2179.36720823]), array([ 34.3819433]), array([-10.07346444]))\n",
      "(array([ 2181.06113972]), array([ 33.87862973]), array([-10.06627155]))\n",
      "(array([ 2182.72992327]), array([ 33.375671]), array([-10.05917448]))\n",
      "(array([ 2184.37357638]), array([ 32.87306233]), array([-10.05217335]))\n",
      "(array([ 2185.99211633]), array([ 32.37079892]), array([-10.04526829]))\n",
      "(array([ 2187.58556013]), array([ 31.86887595]), array([-10.0384594]))\n",
      "(array([ 2189.15392456]), array([ 31.36728861]), array([-10.03174682]))\n",
      "(array([ 2190.69722616]), array([ 30.86603208]), array([-10.02513067]))\n",
      "(array([ 2192.21548124]), array([ 30.36510152]), array([-10.01861109]))\n",
      "(array([ 2193.70870584]), array([ 29.86449211]), array([-10.01218819]))\n",
      "(array([ 2195.17691579]), array([ 29.36419901]), array([-10.00586211]))\n",
      "(array([ 2196.62012666]), array([ 28.86421736]), array([-9.99963299]))\n",
      "(array([ 2198.03835378]), array([ 28.36454231]), array([-9.99350095]))\n",
      "(array([ 2199.43161223]), array([ 27.865169]), array([-9.98746615]))\n",
      "(array([ 2200.79991685]), array([ 27.36609257]), array([-9.98152872]))\n",
      "(array([ 2202.14328226]), array([ 26.86730813]), array([-9.97568881]))\n",
      "(array([ 2203.4617228]), array([ 26.3688108]), array([-9.96994655]))\n",
      "(array([ 2204.75525259]), array([ 25.87059569]), array([-9.9643021]))\n",
      "(array([ 2206.02388548]), array([ 25.37265791]), array([-9.95875561]))\n",
      "(array([ 2207.26763511]), array([ 24.87499255]), array([-9.95330723]))\n",
      "(array([ 2208.48651484]), array([ 24.37759469]), array([-9.94795712]))\n",
      "(array([ 2209.68053781]), array([ 23.88045942]), array([-9.94270543]))\n",
      "(array([ 2210.8497169]), array([ 23.38358181]), array([-9.93755233]))\n",
      "(array([ 2211.99406475]), array([ 22.88695691]), array([-9.93249798]))\n",
      "(array([ 2213.11359374]), array([ 22.39057978]), array([-9.92754254]))\n",
      "(array([ 2214.20831601]), array([ 21.89444547]), array([-9.92268618]))\n",
      "(array([ 2215.27824346]), array([ 21.39854902]), array([-9.91792908]))\n",
      "(array([ 2216.32338774]), array([ 20.90288545]), array([-9.9132714]))\n",
      "(array([ 2217.34376022]), array([ 20.40744978]), array([-9.90871333]))\n",
      "(array([ 2218.33937208]), array([ 19.91223703]), array([-9.90425505]))\n",
      "(array([ 2219.31023419]), array([ 19.41724219]), array([-9.89989673]))\n",
      "(array([ 2220.2563572]), array([ 18.92246026]), array([-9.89563857]))\n",
      "(array([ 2221.17775151]), array([ 18.42788623]), array([-9.89148075]))\n",
      "(array([ 2222.07442726]), array([ 17.93351505]), array([-9.88742346]))\n",
      "(array([ 2222.94639435]), array([ 17.43934171]), array([-9.8834669]))\n",
      "(array([ 2223.79366241]), array([ 16.94536114]), array([-9.87961127]))\n",
      "MECO at 2.75 sec, at 248.32 m\n",
      "Apogee at 0.0 sec, at 0.0 m\n",
      "MECO at 182.32 m/s\n"
     ]
    },
    {
     "data": {
      "image/png": "[encoded data removed]",
      "text/plain": [
       "<matplotlib.figure.Figure at 0x1176fcd50>"
      ]
     },
     "metadata": {},
     "output_type": "display_data"
    },
    {
     "data": {
      "image/png": "[encoded data removed]",
      "text/plain": [
       "<matplotlib.figure.Figure at 0x11712a650>"
      ]
     },
     "metadata": {},
     "output_type": "display_data"
    },
    {
     "data": {
      "image/png": "[encoded data removed]",
      "text/plain": [
       "<matplotlib.figure.Figure at 0x116e7f110>"
      ]
     },
     "metadata": {},
     "output_type": "display_data"
    }
   ],
   "source": [
    "from matplotlib.pyplot import *\n",
    "% matplotlib inline\n",
    "from numpy import *\n",
    "# from astropy.io import ascii\n",
    "import Subscale as W\n",
    "\n",
    "# thrust_profile = 'J420_thrust.txt'\n",
    "\n",
    "# wet_motor = .874 # kg\n",
    "# propellant_mass = .4796\n",
    "# dry_motor = wet_motor - propellant_mass\n",
    "# rocket_mass = 11.45 - wet_motor\n",
    "\n",
    "thrust_profile = 'K560W_thrust.txt'\n",
    "\n",
    "wet_motor = 2.714 # kg\n",
    "propellant_mass = 1.409\n",
    "dry_motor = wet_motor - propellant_mass\n",
    "rocket_mass = 9.556 - wet_motor\n",
    "print('rocket mass: ', rocket_mass)\n",
    "\n",
    "burn_time = 4.84 # sec\n",
    "temp = 10.   # Density of air varies with temperature\n",
    "time_res = 1. / 20     # operating at 20Hz\n",
    "\n",
    "# ?? not sure about following values\n",
    "max_deploy = 50  #percentage opening\n",
    "\n",
    "t_deploy = 1 #how long it takes to deploy\n",
    "t_start = 1 # after MECO\n",
    "\n",
    "\n",
    "drag_f = 1.25\n",
    "plots = True\n",
    "\n",
    "\n",
    "W.num_solver(thrust_profile, rocket_mass, dry_motor, propellant_mass, time_res, temp, burn_time, max_deploy, t_start, t_deploy, plots, drag_f)"
   ]
  },
  {
   "cell_type": "code",
   "execution_count": null,
   "metadata": {
    "collapsed": true
   },
   "outputs": [],
   "source": []
  },
  {
   "cell_type": "code",
   "execution_count": 4,
   "metadata": {
    "collapsed": false
   },
   "outputs": [
    {
     "name": "stdout",
     "output_type": "stream",
     "text": [
      "The autoreload extension is already loaded. To reload it, use:\n",
      "  %reload_ext autoreload\n"
     ]
    }
   ],
   "source": [
    "%load_ext autoreload\n",
    "%autoreload 2"
   ]
  },
  {
   "cell_type": "code",
   "execution_count": 24,
   "metadata": {
    "collapsed": true
   },
   "outputs": [],
   "source": [
    "%autoreload 2"
   ]
  },
  {
   "cell_type": "code",
   "execution_count": 6,
   "metadata": {
    "collapsed": true
   },
   "outputs": [],
   "source": [
    "%reload_ext autoreload"
   ]
  },
  {
   "cell_type": "code",
   "execution_count": null,
   "metadata": {
    "collapsed": true
   },
   "outputs": [],
   "source": []
  },
  {
   "cell_type": "code",
   "execution_count": null,
   "metadata": {
    "collapsed": true
   },
   "outputs": [],
   "source": []
  },
  {
   "cell_type": "code",
   "execution_count": 66,
   "metadata": {
    "collapsed": true
   },
   "outputs": [],
   "source": [
    "a = b = [None] * 10"
   ]
  },
  {
   "cell_type": "code",
   "execution_count": 67,
   "metadata": {
    "collapsed": false
   },
   "outputs": [
    {
     "data": {
      "text/plain": [
       "[None, None, None, None, None, None, None, None, None, None]"
      ]
     },
     "execution_count": 67,
     "metadata": {},
     "output_type": "execute_result"
    }
   ],
   "source": [
    "a"
   ]
  },
  {
   "cell_type": "code",
   "execution_count": 68,
   "metadata": {
    "collapsed": false
   },
   "outputs": [
    {
     "data": {
      "text/plain": [
       "103610132456"
      ]
     },
     "execution_count": 68,
     "metadata": {},
     "output_type": "execute_result"
    }
   ],
   "source": [
    "id(a)"
   ]
  },
  {
   "cell_type": "code",
   "execution_count": 69,
   "metadata": {
    "collapsed": false
   },
   "outputs": [
    {
     "data": {
      "text/plain": [
       "103610132456"
      ]
     },
     "execution_count": 69,
     "metadata": {},
     "output_type": "execute_result"
    }
   ],
   "source": [
    "id(b)"
   ]
  },
  {
   "cell_type": "code",
   "execution_count": 70,
   "metadata": {
    "collapsed": false
   },
   "outputs": [
    {
     "data": {
      "text/plain": [
       "0"
      ]
     },
     "execution_count": 70,
     "metadata": {},
     "output_type": "execute_result"
    }
   ],
   "source": [
    "id(a) - id(b)"
   ]
  },
  {
   "cell_type": "code",
   "execution_count": 73,
   "metadata": {
    "collapsed": true
   },
   "outputs": [],
   "source": [
    "a = [0, [None] * 6]"
   ]
  },
  {
   "cell_type": "code",
   "execution_count": 74,
   "metadata": {
    "collapsed": false
   },
   "outputs": [
    {
     "data": {
      "text/plain": [
       "[0, [None, None, None, None, None, None]]"
      ]
     },
     "execution_count": 74,
     "metadata": {},
     "output_type": "execute_result"
    }
   ],
   "source": [
    "a"
   ]
  },
  {
   "cell_type": "code",
   "execution_count": 4,
   "metadata": {
    "collapsed": true
   },
   "outputs": [],
   "source": [
    "timee, thrustt = np.loadtxt('J420_thrust.txt', skiprows=1, unpack=True)"
   ]
  },
  {
   "cell_type": "code",
   "execution_count": 5,
   "metadata": {
    "collapsed": false
   },
   "outputs": [
    {
     "name": "stdout",
     "output_type": "stream",
     "text": [
      "[  0.00000000e+00   2.00000000e-02   1.50000000e-02   2.00000000e-02\n",
      "   3.50000000e-02   7.50000000e-02   2.50000000e-01   7.00000000e-01\n",
      "   1.45000000e+00   1.51000000e+00   1.62000000e+00   1.80000000e+00\n",
      "   1.90000000e+00   2.00000000e+00   2.25000000e+00   2.62000000e+00\n",
      "   1.00000000e+03]\n"
     ]
    }
   ],
   "source": [
    "print timee"
   ]
  },
  {
   "cell_type": "code",
   "execution_count": 6,
   "metadata": {
    "collapsed": false
   },
   "outputs": [
    {
     "data": {
      "text/plain": [
       "17"
      ]
     },
     "execution_count": 6,
     "metadata": {},
     "output_type": "execute_result"
    }
   ],
   "source": [
    "len(timee)"
   ]
  },
  {
   "cell_type": "code",
   "execution_count": 7,
   "metadata": {
    "collapsed": false
   },
   "outputs": [
    {
     "name": "stdout",
     "output_type": "stream",
     "text": [
      "[   0.      7.82  360.    660.    800.    660.    625.    560.    495.\n",
      "  480.    350.    220.    150.    120.     48.      0.      0.  ]\n"
     ]
    }
   ],
   "source": [
    "print thrustt"
   ]
  },
  {
   "cell_type": "code",
   "execution_count": 21,
   "metadata": {
    "collapsed": true
   },
   "outputs": [],
   "source": [
    "a = True"
   ]
  },
  {
   "cell_type": "code",
   "execution_count": 22,
   "metadata": {
    "collapsed": false
   },
   "outputs": [
    {
     "data": {
      "text/plain": [
       "-2"
      ]
     },
     "execution_count": 22,
     "metadata": {},
     "output_type": "execute_result"
    }
   ],
   "source": [
    "~a"
   ]
  },
  {
   "cell_type": "code",
   "execution_count": 24,
   "metadata": {
    "collapsed": false
   },
   "outputs": [
    {
     "ename": "NameError",
     "evalue": "name 'Aeoline' is not defined",
     "output_type": "error",
     "traceback": [
      "\u001b[0;31m---------------------------------------------------------------------------\u001b[0m",
      "\u001b[0;31mNameError\u001b[0m                                 Traceback (most recent call last)",
      "\u001b[0;32m<ipython-input-24-2fe452aa7409>\u001b[0m in \u001b[0;36m<module>\u001b[0;34m()\u001b[0m\n\u001b[0;32m----> 1\u001b[0;31m \u001b[0;32mprint\u001b[0m \u001b[0mAeoline\u001b[0m\u001b[0;34m\u001b[0m\u001b[0m\n\u001b[0m",
      "\u001b[0;31mNameError\u001b[0m: name 'Aeoline' is not defined"
     ]
    }
   ],
   "source": []
  },
  {
   "cell_type": "code",
   "execution_count": null,
   "metadata": {
    "collapsed": true
   },
   "outputs": [],
   "source": []
  }
 ],
 "metadata": {
  "kernelspec": {
   "display_name": "Python 2",
   "language": "python",
   "name": "python2"
  },
  "language_info": {
   "codemirror_mode": {
    "name": "ipython",
    "version": 2
   },
   "file_extension": ".py",
   "mimetype": "text/x-python",
   "name": "python",
   "nbconvert_exporter": "python",
   "pygments_lexer": "ipython2",
   "version": "2.7.11"
  }
 },
 "nbformat": 4,
 "nbformat_minor": 2
}
