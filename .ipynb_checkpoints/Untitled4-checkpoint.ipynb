{
 "cells": [
  {
   "cell_type": "code",
   "execution_count": 4,
   "metadata": {
    "collapsed": true
   },
   "outputs": [],
   "source": [
    "import numpy as np\n",
    "M = 0.0289644\n",
    "R = 8.31447\n",
    "g = 9.81\n",
    "h0 = 0.0\n",
    "P0 = 101325\n",
    "T0 = 288.15\n",
    "L0 = 6.5 # standard lapse rate of troposphere\n",
    "# Barometric pressure equations:\n",
    "# lapse rate =/= 0\n",
    "def P1 (h) :\n",
    "    return P0 * (T0 / (T0 + L0 * (h - h0))) ** (g * M / R * L0)\n",
    "# lapse rate = 0\n",
    "def P2 (h) :\n",
    "    return P0 * np.exp(-g * M * (h - h0) / (R * T0))"
   ]
  },
  {
   "cell_type": "code",
   "execution_count": 3,
   "metadata": {
    "collapsed": true
   },
   "outputs": [],
   "source": [
    "%load_ext autoreload\n",
    "%autoreload 2"
   ]
  },
  {
   "cell_type": "code",
   "execution_count": null,
   "metadata": {
    "collapsed": false
   },
   "outputs": [],
   "source": [
    "h = np.arange(0, 800, 1) # height in meters\n",
    "D = []\n",
    "E = []\n",
    "for hi in h :\n",
    "    D.append(P1(hi))\n",
    "    E.append(P2(hi))\n",
    "    \n",
    "import matplotlib.pyplot as plt\n",
    "\n",
    "\n",
    "# plt.plot(h, E, '-', label='No lapse') # 0 lapse\n",
    "plt.plot(h, D, '--', label='Lapse') # =/=0 lapse\n",
    "plt.legend(loc='lower left')\n",
    "plt.show()"
   ]
  },
  {
   "cell_type": "code",
   "execution_count": null,
   "metadata": {
    "collapsed": true
   },
   "outputs": [],
   "source": []
  }
 ],
 "metadata": {
  "kernelspec": {
   "display_name": "Python 2",
   "language": "python",
   "name": "python2"
  },
  "language_info": {
   "codemirror_mode": {
    "name": "ipython",
    "version": 2
   },
   "file_extension": ".py",
   "mimetype": "text/x-python",
   "name": "python",
   "nbconvert_exporter": "python",
   "pygments_lexer": "ipython2",
   "version": "2.7.11"
  }
 },
 "nbformat": 4,
 "nbformat_minor": 1
}
