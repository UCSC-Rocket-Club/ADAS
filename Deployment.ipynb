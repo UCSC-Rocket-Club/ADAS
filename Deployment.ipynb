{
 "cells": [
  {
   "cell_type": "code",
   "execution_count": 3,
   "metadata": {},
   "outputs": [],
   "source": [
    "import numpy as np\n",
    "import itertools as itertools\n",
    "import matplotlib.pyplot as plt"
   ]
  },
  {
   "cell_type": "code",
   "execution_count": 33,
   "metadata": {},
   "outputs": [
    {
     "name": "stdout",
     "output_type": "stream",
     "text": [
      "248\n"
     ]
    }
   ],
   "source": [
    "n = 248 # number of steps\n",
    "n_step = 4 # number of steps up or down\n",
    "min_deploy = .1 # percentage of miimum deployment\n",
    "max_deploy = .80 # Percentage of max deployment\n",
    "\n",
    "step_arr = np.linspace(min_deploy, max_deploy, num=n_step) # step up and down array\n",
    "                       \n",
    "a = []\n",
    "for i in step_arr :\n",
    "    a.append((np.ones(int(n/(2*n_step)))*i))\n",
    "a=np.array(a).flatten()\n",
    "full_arr=np.concatenate((a, a[::-1])) # combine prev. array with step down array\n",
    "\n",
    "# osc_arr=[] # oscillation array\n",
    "#for i, j in enumerate(itertools.cycle([max_deploy/2, max_deploy])): # oscillate between 40 and 80\n",
    "#    if i == int(n/3):  # loop n/3 times\n",
    "#        break\n",
    "#    osc_arr.append(j)  \n",
    "#osc_arr=np.array(osc_arr)\n",
    "\n",
    "print(np.size(full_arr))"
   ]
  },
  {
   "cell_type": "code",
   "execution_count": 34,
   "metadata": {},
   "outputs": [
    {
     "data": {
      "text/plain": [
       "[<matplotlib.lines.Line2D at 0x7f34a864fc50>]"
      ]
     },
     "execution_count": 34,
     "metadata": {},
     "output_type": "execute_result"
    },
    {
     "data": {
      "image/png": "[encoded data removed]",
      "text/plain": [
       "<Figure size 432x288 with 1 Axes>"
      ]
     },
     "metadata": {},
     "output_type": "display_data"
    }
   ],
   "source": [
    "plt.plot(full_arr)"
   ]
  },
  {
   "cell_type": "code",
   "execution_count": null,
   "metadata": {},
   "outputs": [],
   "source": []
  },
  {
   "cell_type": "code",
   "execution_count": null,
   "metadata": {},
   "outputs": [],
   "source": []
  }
 ],
 "metadata": {
  "kernelspec": {
   "display_name": "Python 3",
   "language": "python",
   "name": "python3"
  },
  "language_info": {
   "codemirror_mode": {
    "name": "ipython",
    "version": 3
   },
   "file_extension": ".py",
   "mimetype": "text/x-python",
   "name": "python",
   "nbconvert_exporter": "python",
   "pygments_lexer": "ipython3",
   "version": "3.6.5"
  }
 },
 "nbformat": 4,
 "nbformat_minor": 2
}
