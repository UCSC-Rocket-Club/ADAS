{
 "cells": [
  {
   "cell_type": "code",
   "execution_count": 1,
   "metadata": {},
   "outputs": [],
   "source": [
    "from numpy import *\n",
    "from matplotlib.pyplot import *\n",
    "from astropy.io import ascii"
   ]
  },
  {
   "cell_type": "code",
   "execution_count": 60,
   "metadata": {},
   "outputs": [],
   "source": [
    "M = [] # Magnetometer array\n",
    "P = [] # Pressure array\n",
    "T = [] # Temperature array\n",
    "\n",
    "ax = [] # acceleration arrays\n",
    "ay = []\n",
    "az = []\n",
    "\n",
    "gyrox = [] # Gyroscope arrays\n",
    "gyroy = []\n",
    "gyroz = []\n",
    "\n",
    "t = [] # time array\n",
    "in_air = True\n",
    "dampener_P=0\n",
    "dampener_ay=0"
   ]
  },
  {
   "cell_type": "code",
   "execution_count": 58,
   "metadata": {},
   "outputs": [],
   "source": [
    "# test arrays\n",
    "ay_test = [0, 1, 2, 3, 2, 1, 0, -9, -9, -9]\n",
    "P_test = [5, 4, 3, 2, 1, 0, 1, 2, 3, 4]\n",
    "t_test = [0, 2, 4, 6, 8, 10, 12, 14, 16, 18]"
   ]
  },
  {
   "cell_type": "code",
   "execution_count": 56,
   "metadata": {},
   "outputs": [
    {
     "name": "stdout",
     "output_type": "stream",
     "text": [
      "12\n"
     ]
    }
   ],
   "source": [
    "# Determining Apogee                                \n",
    "t_appogy=0                                           # Set time at appogy to 0 so we can use it as condition for changing appogy time\n",
    "#while(in_air):                                      # While in air\n",
    "for i in range(size(P_test)):\n",
    "    P_inst = P_test[i]                               # set instantaneous pressure to the test pressure (will change based on how we read in data)\n",
    "    if i>1:                                          # so that we start reading data after we have our first value \n",
    "        if P_inst>P[-1]+dampener_P and t_appogy == 0:  # record appogy time if intantaneous velocity is greater than previous value (if we are falling) and appogy time has been changed\n",
    "            t_appogy=t_test[i]                                      \n",
    "    P.append(P_inst)                                 # append instantaneous Pressure to Pressure array\n",
    "print (t_appogy)"
   ]
  },
  {
   "cell_type": "code",
   "execution_count": 63,
   "metadata": {},
   "outputs": [
    {
     "name": "stdout",
     "output_type": "stream",
     "text": [
      "12\n"
     ]
    }
   ],
   "source": [
    "# Determining Main Engine Cut Off (MECO)\n",
    "ay =[]                                             # acceleration array\n",
    "t_MECO=0\n",
    "t_launch=0                                         #also defined as t(max acc)\n",
    "# Set time at main engine cut-off (MECO) to 0 so we can use it as condition for changing appogy time\n",
    "#while(in_air):                                    # While in air\n",
    "for i in range(size(ay_test)):                     # loop through acceleration array elements\n",
    "    ay_inst = ay_test[i]                           # set instantaneous acceleration to the test acceleration (will change based on how we read in data)\n",
    "    if i>1:                                        # so that we start reading data after we have our first value \n",
    "        if ay_inst<0+dampener_ay and t_MECO == 0:  # record MECO time if acceleration is less than damper value (if acceleration is negative) and MECO time has been changed\n",
    "            t_MECo=t_test[i]                                          \n",
    "    ay.append(ay_inst)                             # append instantaneous acceleration to acceleration array\n",
    "print (t_appogy)"
   ]
  },
  {
   "cell_type": "code",
   "execution_count": null,
   "metadata": {},
   "outputs": [],
   "source": []
  }
 ],
 "metadata": {
  "kernelspec": {
   "display_name": "Python 3",
   "language": "python",
   "name": "python3"
  },
  "language_info": {
   "codemirror_mode": {
    "name": "ipython",
    "version": 3
   },
   "file_extension": ".py",
   "mimetype": "text/x-python",
   "name": "python",
   "nbconvert_exporter": "python",
   "pygments_lexer": "ipython3",
   "version": "3.6.5"
  }
 },
 "nbformat": 4,
 "nbformat_minor": 2
}
